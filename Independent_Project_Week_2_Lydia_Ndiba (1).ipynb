{
  "nbformat": 4,
  "nbformat_minor": 0,
  "metadata": {
    "colab": {
      "name": "Independent Project Week 2 - Lydia Ndiba ",
      "provenance": [],
      "collapsed_sections": [],
      "toc_visible": true
    },
    "kernelspec": {
      "name": "python3",
      "display_name": "Python 3"
    }
  },
  "cells": [
    {
      "cell_type": "markdown",
      "metadata": {
        "id": "FuSIoXMdMGcy",
        "colab_type": "text"
      },
      "source": [
        "# Defining our question:\n",
        "\n",
        "How we can predict which individuals are most likely to have or use a bank account?\n",
        "\n",
        "Looking at the state of financial inclusion in Kenya, Rwanda, Tanzania, and Uganda.\n",
        "\n",
        "Providing insights into some of the key demographic factors that might drive individuals’ financial outcomes."
      ]
    },
    {
      "cell_type": "code",
      "metadata": {
        "id": "-aj_FGokZ9cl",
        "colab_type": "code",
        "colab": {}
      },
      "source": [
        "import pandas as pd\n",
        "import numpy as np\n",
        "import seaborn as sns\n",
        "import matplotlib\n",
        "from matplotlib import pyplot as plt"
      ],
      "execution_count": 0,
      "outputs": []
    },
    {
      "cell_type": "markdown",
      "metadata": {
        "id": "nLfb3JJKzC0h",
        "colab_type": "text"
      },
      "source": [
        "# Reading our Dataset"
      ]
    },
    {
      "cell_type": "code",
      "metadata": {
        "id": "8elBTf9mxY2w",
        "colab_type": "code",
        "outputId": "394ff90e-69f1-4fef-e3eb-7faca31d6432",
        "colab": {
          "base_uri": "https://localhost:8080/",
          "height": 606
        }
      },
      "source": [
        "# loading our first dataset\n",
        "df = pd.read_csv ('/content/Financial Dataset - 1.csv')\n",
        "\n",
        "# reading our dataset\n",
        "df"
      ],
      "execution_count": 2,
      "outputs": [
        {
          "output_type": "execute_result",
          "data": {
            "text/html": [
              "<div>\n",
              "<style scoped>\n",
              "    .dataframe tbody tr th:only-of-type {\n",
              "        vertical-align: middle;\n",
              "    }\n",
              "\n",
              "    .dataframe tbody tr th {\n",
              "        vertical-align: top;\n",
              "    }\n",
              "\n",
              "    .dataframe thead th {\n",
              "        text-align: right;\n",
              "    }\n",
              "</style>\n",
              "<table border=\"1\" class=\"dataframe\">\n",
              "  <thead>\n",
              "    <tr style=\"text-align: right;\">\n",
              "      <th></th>\n",
              "      <th>country</th>\n",
              "      <th>year</th>\n",
              "      <th>uniqueid</th>\n",
              "      <th>Has a Bank account</th>\n",
              "      <th>Type of Location</th>\n",
              "      <th>Cell Phone Access</th>\n",
              "      <th>household_size</th>\n",
              "      <th>Respondent Age</th>\n",
              "      <th>gender_of_respondent</th>\n",
              "      <th>The relathip with head</th>\n",
              "      <th>marital_status</th>\n",
              "      <th>Level of Educuation</th>\n",
              "      <th>Type of Job</th>\n",
              "    </tr>\n",
              "  </thead>\n",
              "  <tbody>\n",
              "    <tr>\n",
              "      <th>0</th>\n",
              "      <td>Kenya</td>\n",
              "      <td>2018</td>\n",
              "      <td>uniqueid_1</td>\n",
              "      <td>Yes</td>\n",
              "      <td>Rural</td>\n",
              "      <td>Yes</td>\n",
              "      <td>3.0</td>\n",
              "      <td>24.0</td>\n",
              "      <td>Female</td>\n",
              "      <td>Spouse</td>\n",
              "      <td>Married/Living together</td>\n",
              "      <td>Secondary education</td>\n",
              "      <td>Self employed</td>\n",
              "    </tr>\n",
              "    <tr>\n",
              "      <th>1</th>\n",
              "      <td>Kenya</td>\n",
              "      <td>2018</td>\n",
              "      <td>uniqueid_2</td>\n",
              "      <td>No</td>\n",
              "      <td>Rural</td>\n",
              "      <td>No</td>\n",
              "      <td>5.0</td>\n",
              "      <td>70.0</td>\n",
              "      <td>Female</td>\n",
              "      <td>Head of Household</td>\n",
              "      <td>Widowed</td>\n",
              "      <td>No formal education</td>\n",
              "      <td>Government Dependent</td>\n",
              "    </tr>\n",
              "    <tr>\n",
              "      <th>2</th>\n",
              "      <td>Kenya</td>\n",
              "      <td>2018</td>\n",
              "      <td>uniqueid_3</td>\n",
              "      <td>Yes</td>\n",
              "      <td>Urban</td>\n",
              "      <td>Yes</td>\n",
              "      <td>5.0</td>\n",
              "      <td>26.0</td>\n",
              "      <td>Male</td>\n",
              "      <td>Other relative</td>\n",
              "      <td>Single/Never Married</td>\n",
              "      <td>Vocational/Specialised training</td>\n",
              "      <td>Self employed</td>\n",
              "    </tr>\n",
              "    <tr>\n",
              "      <th>3</th>\n",
              "      <td>Kenya</td>\n",
              "      <td>2018</td>\n",
              "      <td>uniqueid_4</td>\n",
              "      <td>No</td>\n",
              "      <td>Rural</td>\n",
              "      <td>Yes</td>\n",
              "      <td>5.0</td>\n",
              "      <td>34.0</td>\n",
              "      <td>Female</td>\n",
              "      <td>Head of Household</td>\n",
              "      <td>Married/Living together</td>\n",
              "      <td>Primary education</td>\n",
              "      <td>Formally employed Private</td>\n",
              "    </tr>\n",
              "    <tr>\n",
              "      <th>4</th>\n",
              "      <td>Kenya</td>\n",
              "      <td>2018</td>\n",
              "      <td>uniqueid_5</td>\n",
              "      <td>No</td>\n",
              "      <td>Urban</td>\n",
              "      <td>No</td>\n",
              "      <td>8.0</td>\n",
              "      <td>26.0</td>\n",
              "      <td>Male</td>\n",
              "      <td>Child</td>\n",
              "      <td>Single/Never Married</td>\n",
              "      <td>Primary education</td>\n",
              "      <td>Informally employed</td>\n",
              "    </tr>\n",
              "    <tr>\n",
              "      <th>...</th>\n",
              "      <td>...</td>\n",
              "      <td>...</td>\n",
              "      <td>...</td>\n",
              "      <td>...</td>\n",
              "      <td>...</td>\n",
              "      <td>...</td>\n",
              "      <td>...</td>\n",
              "      <td>...</td>\n",
              "      <td>...</td>\n",
              "      <td>...</td>\n",
              "      <td>...</td>\n",
              "      <td>...</td>\n",
              "      <td>...</td>\n",
              "    </tr>\n",
              "    <tr>\n",
              "      <th>23519</th>\n",
              "      <td>Uganda</td>\n",
              "      <td>2018</td>\n",
              "      <td>uniqueid_2113</td>\n",
              "      <td>No</td>\n",
              "      <td>Rural</td>\n",
              "      <td>Yes</td>\n",
              "      <td>4.0</td>\n",
              "      <td>48.0</td>\n",
              "      <td>Female</td>\n",
              "      <td>Head of Household</td>\n",
              "      <td>Divorced/Seperated</td>\n",
              "      <td>No formal education</td>\n",
              "      <td>Other Income</td>\n",
              "    </tr>\n",
              "    <tr>\n",
              "      <th>23520</th>\n",
              "      <td>Uganda</td>\n",
              "      <td>2018</td>\n",
              "      <td>uniqueid_2114</td>\n",
              "      <td>No</td>\n",
              "      <td>Rural</td>\n",
              "      <td>Yes</td>\n",
              "      <td>2.0</td>\n",
              "      <td>27.0</td>\n",
              "      <td>Female</td>\n",
              "      <td>Head of Household</td>\n",
              "      <td>Single/Never Married</td>\n",
              "      <td>Secondary education</td>\n",
              "      <td>Other Income</td>\n",
              "    </tr>\n",
              "    <tr>\n",
              "      <th>23521</th>\n",
              "      <td>Uganda</td>\n",
              "      <td>2018</td>\n",
              "      <td>uniqueid_2115</td>\n",
              "      <td>No</td>\n",
              "      <td>Rural</td>\n",
              "      <td>Yes</td>\n",
              "      <td>5.0</td>\n",
              "      <td>27.0</td>\n",
              "      <td>Female</td>\n",
              "      <td>Parent</td>\n",
              "      <td>Widowed</td>\n",
              "      <td>Primary education</td>\n",
              "      <td>Other Income</td>\n",
              "    </tr>\n",
              "    <tr>\n",
              "      <th>23522</th>\n",
              "      <td>Uganda</td>\n",
              "      <td>2018</td>\n",
              "      <td>uniqueid_2116</td>\n",
              "      <td>No</td>\n",
              "      <td>Urban</td>\n",
              "      <td>Yes</td>\n",
              "      <td>7.0</td>\n",
              "      <td>30.0</td>\n",
              "      <td>Female</td>\n",
              "      <td>Parent</td>\n",
              "      <td>Divorced/Seperated</td>\n",
              "      <td>Secondary education</td>\n",
              "      <td>Self employed</td>\n",
              "    </tr>\n",
              "    <tr>\n",
              "      <th>23523</th>\n",
              "      <td>Uganda</td>\n",
              "      <td>2018</td>\n",
              "      <td>uniqueid_2117</td>\n",
              "      <td>No</td>\n",
              "      <td>Rural</td>\n",
              "      <td>Yes</td>\n",
              "      <td>10.0</td>\n",
              "      <td>20.0</td>\n",
              "      <td>Male</td>\n",
              "      <td>Child</td>\n",
              "      <td>Single/Never Married</td>\n",
              "      <td>Secondary education</td>\n",
              "      <td>No Income</td>\n",
              "    </tr>\n",
              "  </tbody>\n",
              "</table>\n",
              "<p>23524 rows × 13 columns</p>\n",
              "</div>"
            ],
            "text/plain": [
              "      country  year  ...              Level of Educuation                Type of Job\n",
              "0       Kenya  2018  ...              Secondary education              Self employed\n",
              "1       Kenya  2018  ...              No formal education       Government Dependent\n",
              "2       Kenya  2018  ...  Vocational/Specialised training              Self employed\n",
              "3       Kenya  2018  ...                Primary education  Formally employed Private\n",
              "4       Kenya  2018  ...                Primary education        Informally employed\n",
              "...       ...   ...  ...                              ...                        ...\n",
              "23519  Uganda  2018  ...              No formal education               Other Income\n",
              "23520  Uganda  2018  ...              Secondary education               Other Income\n",
              "23521  Uganda  2018  ...                Primary education               Other Income\n",
              "23522  Uganda  2018  ...              Secondary education              Self employed\n",
              "23523  Uganda  2018  ...              Secondary education                  No Income\n",
              "\n",
              "[23524 rows x 13 columns]"
            ]
          },
          "metadata": {
            "tags": []
          },
          "execution_count": 2
        }
      ]
    },
    {
      "cell_type": "code",
      "metadata": {
        "id": "CfpgrY51yR75",
        "colab_type": "code",
        "outputId": "f44661e0-13d6-4bd0-d482-109060c6f58a",
        "colab": {
          "base_uri": "https://localhost:8080/",
          "height": 197
        }
      },
      "source": [
        "# loading our second dataset\n",
        "definitions = pd.read_csv ('/content/VariableDefinitions.csv')\n",
        "\n",
        "# reading our dataset\n",
        "definitions.head()"
      ],
      "execution_count": 3,
      "outputs": [
        {
          "output_type": "execute_result",
          "data": {
            "text/html": [
              "<div>\n",
              "<style scoped>\n",
              "    .dataframe tbody tr th:only-of-type {\n",
              "        vertical-align: middle;\n",
              "    }\n",
              "\n",
              "    .dataframe tbody tr th {\n",
              "        vertical-align: top;\n",
              "    }\n",
              "\n",
              "    .dataframe thead th {\n",
              "        text-align: right;\n",
              "    }\n",
              "</style>\n",
              "<table border=\"1\" class=\"dataframe\">\n",
              "  <thead>\n",
              "    <tr style=\"text-align: right;\">\n",
              "      <th></th>\n",
              "      <th>Variable Definitions</th>\n",
              "      <th>Unnamed: 1</th>\n",
              "    </tr>\n",
              "  </thead>\n",
              "  <tbody>\n",
              "    <tr>\n",
              "      <th>0</th>\n",
              "      <td>country</td>\n",
              "      <td>Country interviewee is in.</td>\n",
              "    </tr>\n",
              "    <tr>\n",
              "      <th>1</th>\n",
              "      <td>year</td>\n",
              "      <td>Year survey was done in.</td>\n",
              "    </tr>\n",
              "    <tr>\n",
              "      <th>2</th>\n",
              "      <td>uniqueid</td>\n",
              "      <td>Unique identifier for each interviewee</td>\n",
              "    </tr>\n",
              "    <tr>\n",
              "      <th>3</th>\n",
              "      <td>location_type</td>\n",
              "      <td>Type of location: Rural, Urban</td>\n",
              "    </tr>\n",
              "    <tr>\n",
              "      <th>4</th>\n",
              "      <td>cellphone_access</td>\n",
              "      <td>If interviewee has access to a cellphone: Yes, No</td>\n",
              "    </tr>\n",
              "  </tbody>\n",
              "</table>\n",
              "</div>"
            ],
            "text/plain": [
              "  Variable Definitions                                         Unnamed: 1\n",
              "0              country                         Country interviewee is in.\n",
              "1                 year                           Year survey was done in.\n",
              "2             uniqueid             Unique identifier for each interviewee\n",
              "3        location_type                     Type of location: Rural, Urban\n",
              "4     cellphone_access  If interviewee has access to a cellphone: Yes, No"
            ]
          },
          "metadata": {
            "tags": []
          },
          "execution_count": 3
        }
      ]
    },
    {
      "cell_type": "code",
      "metadata": {
        "id": "tgLfhKQIy7zE",
        "colab_type": "code",
        "outputId": "f77ce97b-8d42-4b2a-d306-b0b3e535ec9c",
        "colab": {
          "base_uri": "https://localhost:8080/",
          "height": 52
        }
      },
      "source": [
        "# determining number of records in our datasets\n",
        "\n",
        "print (df.shape)\n",
        "\n",
        "print (definitions.shape)"
      ],
      "execution_count": 4,
      "outputs": [
        {
          "output_type": "stream",
          "text": [
            "(23524, 13)\n",
            "(12, 2)\n"
          ],
          "name": "stdout"
        }
      ]
    },
    {
      "cell_type": "code",
      "metadata": {
        "id": "shTA1Rlvzyx8",
        "colab_type": "code",
        "outputId": "ec18d577-b017-4dec-fe03-68a3e4b3f6dd",
        "colab": {
          "base_uri": "https://localhost:8080/",
          "height": 318
        }
      },
      "source": [
        "# checking at the columns datatypes\n",
        "\n",
        "print (df.dtypes)\n",
        "\n",
        "print (definitions.dtypes)"
      ],
      "execution_count": 5,
      "outputs": [
        {
          "output_type": "stream",
          "text": [
            "country                    object\n",
            "year                        int64\n",
            "uniqueid                   object\n",
            "Has a Bank account         object\n",
            "Type of Location           object\n",
            "Cell Phone Access          object\n",
            "household_size            float64\n",
            "Respondent Age            float64\n",
            "gender_of_respondent       object\n",
            "The relathip with head     object\n",
            "marital_status             object\n",
            "Level of Educuation        object\n",
            "Type of Job                object\n",
            "dtype: object\n",
            "Variable Definitions    object\n",
            "Unnamed: 1              object\n",
            "dtype: object\n"
          ],
          "name": "stdout"
        }
      ]
    },
    {
      "cell_type": "markdown",
      "metadata": {
        "id": "Qbpr1cmZNQML",
        "colab_type": "text"
      },
      "source": [
        "# External Data Source Validation"
      ]
    },
    {
      "cell_type": "markdown",
      "metadata": {
        "id": "uhqEvC-VNffn",
        "colab_type": "text"
      },
      "source": [
        "The dataset we have does not match the information in the seperate links for each country"
      ]
    },
    {
      "cell_type": "markdown",
      "metadata": {
        "id": "62vp__JoNu7C",
        "colab_type": "text"
      },
      "source": [
        "# Tidying the Dataset"
      ]
    },
    {
      "cell_type": "code",
      "metadata": {
        "id": "W03AgkPzYd72",
        "colab_type": "code",
        "colab": {}
      },
      "source": [
        "# fixing messy column names in our first dataset\n",
        "\n",
        "df.columns = df.columns.str.strip().str.lower().str.replace(' ', '_')\n",
        "\n",
        "# fixing typos\n",
        "df.columns = df.columns.str.replace('the_relathip_with_head', 'relationship_with_head')\n"
      ],
      "execution_count": 0,
      "outputs": []
    },
    {
      "cell_type": "code",
      "metadata": {
        "id": "-i2inSl2kiTQ",
        "colab_type": "code",
        "colab": {}
      },
      "source": [
        "# fixing messy column names in our second dataset\n",
        "\n",
        "definitions.columns = definitions.columns.str.replace('Variable Definitions', 'variable').str.replace('Unnamed: 1','definition')\n"
      ],
      "execution_count": 0,
      "outputs": []
    },
    {
      "cell_type": "code",
      "metadata": {
        "id": "ZOebq_CclvC7",
        "colab_type": "code",
        "colab": {}
      },
      "source": [
        "# dropping the column uniqueid as it is not relevant in our dataset\n",
        "\n",
        "df.drop(columns= 'uniqueid', axis=0, inplace = True)"
      ],
      "execution_count": 0,
      "outputs": []
    },
    {
      "cell_type": "code",
      "metadata": {
        "id": "Sf995ytplgJR",
        "colab_type": "code",
        "outputId": "b393c2cd-90a5-4518-f9ab-e81690980e12",
        "colab": {
          "base_uri": "https://localhost:8080/",
          "height": 317
        }
      },
      "source": [
        "# reading our datasets to check if our changes have been uploaded\n",
        "\n",
        "df.head()"
      ],
      "execution_count": 9,
      "outputs": [
        {
          "output_type": "execute_result",
          "data": {
            "text/html": [
              "<div>\n",
              "<style scoped>\n",
              "    .dataframe tbody tr th:only-of-type {\n",
              "        vertical-align: middle;\n",
              "    }\n",
              "\n",
              "    .dataframe tbody tr th {\n",
              "        vertical-align: top;\n",
              "    }\n",
              "\n",
              "    .dataframe thead th {\n",
              "        text-align: right;\n",
              "    }\n",
              "</style>\n",
              "<table border=\"1\" class=\"dataframe\">\n",
              "  <thead>\n",
              "    <tr style=\"text-align: right;\">\n",
              "      <th></th>\n",
              "      <th>country</th>\n",
              "      <th>year</th>\n",
              "      <th>has_a_bank_account</th>\n",
              "      <th>type_of_location</th>\n",
              "      <th>cell_phone_access</th>\n",
              "      <th>household_size</th>\n",
              "      <th>respondent_age</th>\n",
              "      <th>gender_of_respondent</th>\n",
              "      <th>relationship_with_head</th>\n",
              "      <th>marital_status</th>\n",
              "      <th>level_of_educuation</th>\n",
              "      <th>type_of_job</th>\n",
              "    </tr>\n",
              "  </thead>\n",
              "  <tbody>\n",
              "    <tr>\n",
              "      <th>0</th>\n",
              "      <td>Kenya</td>\n",
              "      <td>2018</td>\n",
              "      <td>Yes</td>\n",
              "      <td>Rural</td>\n",
              "      <td>Yes</td>\n",
              "      <td>3.0</td>\n",
              "      <td>24.0</td>\n",
              "      <td>Female</td>\n",
              "      <td>Spouse</td>\n",
              "      <td>Married/Living together</td>\n",
              "      <td>Secondary education</td>\n",
              "      <td>Self employed</td>\n",
              "    </tr>\n",
              "    <tr>\n",
              "      <th>1</th>\n",
              "      <td>Kenya</td>\n",
              "      <td>2018</td>\n",
              "      <td>No</td>\n",
              "      <td>Rural</td>\n",
              "      <td>No</td>\n",
              "      <td>5.0</td>\n",
              "      <td>70.0</td>\n",
              "      <td>Female</td>\n",
              "      <td>Head of Household</td>\n",
              "      <td>Widowed</td>\n",
              "      <td>No formal education</td>\n",
              "      <td>Government Dependent</td>\n",
              "    </tr>\n",
              "    <tr>\n",
              "      <th>2</th>\n",
              "      <td>Kenya</td>\n",
              "      <td>2018</td>\n",
              "      <td>Yes</td>\n",
              "      <td>Urban</td>\n",
              "      <td>Yes</td>\n",
              "      <td>5.0</td>\n",
              "      <td>26.0</td>\n",
              "      <td>Male</td>\n",
              "      <td>Other relative</td>\n",
              "      <td>Single/Never Married</td>\n",
              "      <td>Vocational/Specialised training</td>\n",
              "      <td>Self employed</td>\n",
              "    </tr>\n",
              "    <tr>\n",
              "      <th>3</th>\n",
              "      <td>Kenya</td>\n",
              "      <td>2018</td>\n",
              "      <td>No</td>\n",
              "      <td>Rural</td>\n",
              "      <td>Yes</td>\n",
              "      <td>5.0</td>\n",
              "      <td>34.0</td>\n",
              "      <td>Female</td>\n",
              "      <td>Head of Household</td>\n",
              "      <td>Married/Living together</td>\n",
              "      <td>Primary education</td>\n",
              "      <td>Formally employed Private</td>\n",
              "    </tr>\n",
              "    <tr>\n",
              "      <th>4</th>\n",
              "      <td>Kenya</td>\n",
              "      <td>2018</td>\n",
              "      <td>No</td>\n",
              "      <td>Urban</td>\n",
              "      <td>No</td>\n",
              "      <td>8.0</td>\n",
              "      <td>26.0</td>\n",
              "      <td>Male</td>\n",
              "      <td>Child</td>\n",
              "      <td>Single/Never Married</td>\n",
              "      <td>Primary education</td>\n",
              "      <td>Informally employed</td>\n",
              "    </tr>\n",
              "  </tbody>\n",
              "</table>\n",
              "</div>"
            ],
            "text/plain": [
              "  country  year  ...              level_of_educuation                type_of_job\n",
              "0   Kenya  2018  ...              Secondary education              Self employed\n",
              "1   Kenya  2018  ...              No formal education       Government Dependent\n",
              "2   Kenya  2018  ...  Vocational/Specialised training              Self employed\n",
              "3   Kenya  2018  ...                Primary education  Formally employed Private\n",
              "4   Kenya  2018  ...                Primary education        Informally employed\n",
              "\n",
              "[5 rows x 12 columns]"
            ]
          },
          "metadata": {
            "tags": []
          },
          "execution_count": 9
        }
      ]
    },
    {
      "cell_type": "code",
      "metadata": {
        "id": "1Lzq1Q9fmobn",
        "colab_type": "code",
        "outputId": "0ecc6975-6d92-42f2-a018-c3bc4d3366b5",
        "colab": {
          "base_uri": "https://localhost:8080/",
          "height": 197
        }
      },
      "source": [
        "definitions.head()"
      ],
      "execution_count": 10,
      "outputs": [
        {
          "output_type": "execute_result",
          "data": {
            "text/html": [
              "<div>\n",
              "<style scoped>\n",
              "    .dataframe tbody tr th:only-of-type {\n",
              "        vertical-align: middle;\n",
              "    }\n",
              "\n",
              "    .dataframe tbody tr th {\n",
              "        vertical-align: top;\n",
              "    }\n",
              "\n",
              "    .dataframe thead th {\n",
              "        text-align: right;\n",
              "    }\n",
              "</style>\n",
              "<table border=\"1\" class=\"dataframe\">\n",
              "  <thead>\n",
              "    <tr style=\"text-align: right;\">\n",
              "      <th></th>\n",
              "      <th>variable</th>\n",
              "      <th>definition</th>\n",
              "    </tr>\n",
              "  </thead>\n",
              "  <tbody>\n",
              "    <tr>\n",
              "      <th>0</th>\n",
              "      <td>country</td>\n",
              "      <td>Country interviewee is in.</td>\n",
              "    </tr>\n",
              "    <tr>\n",
              "      <th>1</th>\n",
              "      <td>year</td>\n",
              "      <td>Year survey was done in.</td>\n",
              "    </tr>\n",
              "    <tr>\n",
              "      <th>2</th>\n",
              "      <td>uniqueid</td>\n",
              "      <td>Unique identifier for each interviewee</td>\n",
              "    </tr>\n",
              "    <tr>\n",
              "      <th>3</th>\n",
              "      <td>location_type</td>\n",
              "      <td>Type of location: Rural, Urban</td>\n",
              "    </tr>\n",
              "    <tr>\n",
              "      <th>4</th>\n",
              "      <td>cellphone_access</td>\n",
              "      <td>If interviewee has access to a cellphone: Yes, No</td>\n",
              "    </tr>\n",
              "  </tbody>\n",
              "</table>\n",
              "</div>"
            ],
            "text/plain": [
              "           variable                                         definition\n",
              "0           country                         Country interviewee is in.\n",
              "1              year                           Year survey was done in.\n",
              "2          uniqueid             Unique identifier for each interviewee\n",
              "3     location_type                     Type of location: Rural, Urban\n",
              "4  cellphone_access  If interviewee has access to a cellphone: Yes, No"
            ]
          },
          "metadata": {
            "tags": []
          },
          "execution_count": 10
        }
      ]
    },
    {
      "cell_type": "code",
      "metadata": {
        "id": "kA05bW8M0B-o",
        "colab_type": "code",
        "outputId": "e3e1bc2b-6519-4365-b12f-0fcff7817c26",
        "colab": {
          "base_uri": "https://localhost:8080/",
          "height": 297
        }
      },
      "source": [
        "# checking for outliers\n",
        "# household size outliers using box plots\n",
        "\n",
        "sns.boxplot (x = df['household_size'])"
      ],
      "execution_count": 11,
      "outputs": [
        {
          "output_type": "execute_result",
          "data": {
            "text/plain": [
              "<matplotlib.axes._subplots.AxesSubplot at 0x7f362eb818d0>"
            ]
          },
          "metadata": {
            "tags": []
          },
          "execution_count": 11
        },
        {
          "output_type": "display_data",
          "data": {
            "image/png": "[encoded data removed]",
            "text/plain": [
              "<Figure size 432x288 with 1 Axes>"
            ]
          },
          "metadata": {
            "tags": []
          }
        }
      ]
    },
    {
      "cell_type": "code",
      "metadata": {
        "id": "xeDO98HfSM0e",
        "colab_type": "code",
        "outputId": "bb3f55d5-483a-4db8-99f1-82cf4bbfc1e0",
        "colab": {
          "base_uri": "https://localhost:8080/",
          "height": 297
        }
      },
      "source": [
        "# respondent age outliers\n",
        "sns.boxplot (x = df['respondent_age'])"
      ],
      "execution_count": 12,
      "outputs": [
        {
          "output_type": "execute_result",
          "data": {
            "text/plain": [
              "<matplotlib.axes._subplots.AxesSubplot at 0x7f362e6e9b38>"
            ]
          },
          "metadata": {
            "tags": []
          },
          "execution_count": 12
        },
        {
          "output_type": "display_data",
          "data": {
            "image/png": "[encoded data removed]",
            "text/plain": [
              "<Figure size 432x288 with 1 Axes>"
            ]
          },
          "metadata": {
            "tags": []
          }
        }
      ]
    },
    {
      "cell_type": "code",
      "metadata": {
        "id": "pv1LQAn7VoBK",
        "colab_type": "code",
        "outputId": "fee20d5d-571c-48d2-bcd0-0d217498bba2",
        "colab": {
          "base_uri": "https://localhost:8080/",
          "height": 87
        }
      },
      "source": [
        "# calculating IQR for each column\n",
        "Q1 = df.quantile(0.25)\n",
        "Q2 = df.quantile(0.5)\n",
        "Q3 = df.quantile(0.75)\n",
        "IQR = Q3 - Q1\n",
        "print (IQR)\n"
      ],
      "execution_count": 13,
      "outputs": [
        {
          "output_type": "stream",
          "text": [
            "year               2.0\n",
            "household_size     3.0\n",
            "respondent_age    23.0\n",
            "dtype: float64\n"
          ],
          "name": "stdout"
        }
      ]
    },
    {
      "cell_type": "code",
      "metadata": {
        "id": "cr-rq4G6WPIS",
        "colab_type": "code",
        "outputId": "dbdaa7f6-c54b-4401-e77b-c3a4f9feb4ea",
        "colab": {
          "base_uri": "https://localhost:8080/",
          "height": 34
        }
      },
      "source": [
        "#Removing the outliers using IQR\n",
        "df_iqr = df[~((df < (Q1 - 1.5 * IQR)) |(df > (Q3 + 1.5 * IQR))).any(axis=1)]\n",
        "\n",
        "print(df_iqr.shape)"
      ],
      "execution_count": 14,
      "outputs": [
        {
          "output_type": "stream",
          "text": [
            "(22903, 12)\n"
          ],
          "name": "stdout"
        }
      ]
    },
    {
      "cell_type": "code",
      "metadata": {
        "id": "pxKgtXKGpbcI",
        "colab_type": "code",
        "outputId": "361d4872-69c4-492a-9067-af30766420f0",
        "colab": {
          "base_uri": "https://localhost:8080/",
          "height": 34
        }
      },
      "source": [
        "# Identifying the Missing Data\n",
        "#\n",
        "df.isnull().values.any()"
      ],
      "execution_count": 15,
      "outputs": [
        {
          "output_type": "execute_result",
          "data": {
            "text/plain": [
              "True"
            ]
          },
          "metadata": {
            "tags": []
          },
          "execution_count": 15
        }
      ]
    },
    {
      "cell_type": "code",
      "metadata": {
        "id": "qnDkTQmBpp8W",
        "colab_type": "code",
        "outputId": "65ba9262-a71c-479f-f7e1-759d6f874af6",
        "colab": {
          "base_uri": "https://localhost:8080/",
          "height": 247
        }
      },
      "source": [
        "df.isnull().sum()"
      ],
      "execution_count": 16,
      "outputs": [
        {
          "output_type": "execute_result",
          "data": {
            "text/plain": [
              "country                   14\n",
              "year                       0\n",
              "has_a_bank_account        36\n",
              "type_of_location          15\n",
              "cell_phone_access         11\n",
              "household_size            28\n",
              "respondent_age            34\n",
              "gender_of_respondent      34\n",
              "relationship_with_head     4\n",
              "marital_status            32\n",
              "level_of_educuation       29\n",
              "type_of_job               30\n",
              "dtype: int64"
            ]
          },
          "metadata": {
            "tags": []
          },
          "execution_count": 16
        }
      ]
    },
    {
      "cell_type": "code",
      "metadata": {
        "id": "rW3Xt0Utpq8f",
        "colab_type": "code",
        "colab": {}
      },
      "source": [
        "#  we will go ahead and drop the missing values\n",
        "\n",
        "df_drop = df.dropna(inplace=True)"
      ],
      "execution_count": 0,
      "outputs": []
    },
    {
      "cell_type": "code",
      "metadata": {
        "id": "FbOJzUJ8rc63",
        "colab_type": "code",
        "outputId": "65e20b95-66d6-464a-f39e-c7eecab61580",
        "colab": {
          "base_uri": "https://localhost:8080/",
          "height": 34
        }
      },
      "source": [
        "df.shape"
      ],
      "execution_count": 18,
      "outputs": [
        {
          "output_type": "execute_result",
          "data": {
            "text/plain": [
              "(23343, 12)"
            ]
          },
          "metadata": {
            "tags": []
          },
          "execution_count": 18
        }
      ]
    },
    {
      "cell_type": "markdown",
      "metadata": {
        "id": "fJZDTrqTsGRr",
        "colab_type": "text"
      },
      "source": [
        "# Exploratory Analysis"
      ]
    },
    {
      "cell_type": "code",
      "metadata": {
        "id": "TjlXZ7vWvpy8",
        "colab_type": "code",
        "outputId": "168db0fe-671d-46a2-d027-54345f010104",
        "colab": {
          "base_uri": "https://localhost:8080/",
          "height": 317
        }
      },
      "source": [
        "df.head()"
      ],
      "execution_count": 19,
      "outputs": [
        {
          "output_type": "execute_result",
          "data": {
            "text/html": [
              "<div>\n",
              "<style scoped>\n",
              "    .dataframe tbody tr th:only-of-type {\n",
              "        vertical-align: middle;\n",
              "    }\n",
              "\n",
              "    .dataframe tbody tr th {\n",
              "        vertical-align: top;\n",
              "    }\n",
              "\n",
              "    .dataframe thead th {\n",
              "        text-align: right;\n",
              "    }\n",
              "</style>\n",
              "<table border=\"1\" class=\"dataframe\">\n",
              "  <thead>\n",
              "    <tr style=\"text-align: right;\">\n",
              "      <th></th>\n",
              "      <th>country</th>\n",
              "      <th>year</th>\n",
              "      <th>has_a_bank_account</th>\n",
              "      <th>type_of_location</th>\n",
              "      <th>cell_phone_access</th>\n",
              "      <th>household_size</th>\n",
              "      <th>respondent_age</th>\n",
              "      <th>gender_of_respondent</th>\n",
              "      <th>relationship_with_head</th>\n",
              "      <th>marital_status</th>\n",
              "      <th>level_of_educuation</th>\n",
              "      <th>type_of_job</th>\n",
              "    </tr>\n",
              "  </thead>\n",
              "  <tbody>\n",
              "    <tr>\n",
              "      <th>0</th>\n",
              "      <td>Kenya</td>\n",
              "      <td>2018</td>\n",
              "      <td>Yes</td>\n",
              "      <td>Rural</td>\n",
              "      <td>Yes</td>\n",
              "      <td>3.0</td>\n",
              "      <td>24.0</td>\n",
              "      <td>Female</td>\n",
              "      <td>Spouse</td>\n",
              "      <td>Married/Living together</td>\n",
              "      <td>Secondary education</td>\n",
              "      <td>Self employed</td>\n",
              "    </tr>\n",
              "    <tr>\n",
              "      <th>1</th>\n",
              "      <td>Kenya</td>\n",
              "      <td>2018</td>\n",
              "      <td>No</td>\n",
              "      <td>Rural</td>\n",
              "      <td>No</td>\n",
              "      <td>5.0</td>\n",
              "      <td>70.0</td>\n",
              "      <td>Female</td>\n",
              "      <td>Head of Household</td>\n",
              "      <td>Widowed</td>\n",
              "      <td>No formal education</td>\n",
              "      <td>Government Dependent</td>\n",
              "    </tr>\n",
              "    <tr>\n",
              "      <th>2</th>\n",
              "      <td>Kenya</td>\n",
              "      <td>2018</td>\n",
              "      <td>Yes</td>\n",
              "      <td>Urban</td>\n",
              "      <td>Yes</td>\n",
              "      <td>5.0</td>\n",
              "      <td>26.0</td>\n",
              "      <td>Male</td>\n",
              "      <td>Other relative</td>\n",
              "      <td>Single/Never Married</td>\n",
              "      <td>Vocational/Specialised training</td>\n",
              "      <td>Self employed</td>\n",
              "    </tr>\n",
              "    <tr>\n",
              "      <th>3</th>\n",
              "      <td>Kenya</td>\n",
              "      <td>2018</td>\n",
              "      <td>No</td>\n",
              "      <td>Rural</td>\n",
              "      <td>Yes</td>\n",
              "      <td>5.0</td>\n",
              "      <td>34.0</td>\n",
              "      <td>Female</td>\n",
              "      <td>Head of Household</td>\n",
              "      <td>Married/Living together</td>\n",
              "      <td>Primary education</td>\n",
              "      <td>Formally employed Private</td>\n",
              "    </tr>\n",
              "    <tr>\n",
              "      <th>4</th>\n",
              "      <td>Kenya</td>\n",
              "      <td>2018</td>\n",
              "      <td>No</td>\n",
              "      <td>Urban</td>\n",
              "      <td>No</td>\n",
              "      <td>8.0</td>\n",
              "      <td>26.0</td>\n",
              "      <td>Male</td>\n",
              "      <td>Child</td>\n",
              "      <td>Single/Never Married</td>\n",
              "      <td>Primary education</td>\n",
              "      <td>Informally employed</td>\n",
              "    </tr>\n",
              "  </tbody>\n",
              "</table>\n",
              "</div>"
            ],
            "text/plain": [
              "  country  year  ...              level_of_educuation                type_of_job\n",
              "0   Kenya  2018  ...              Secondary education              Self employed\n",
              "1   Kenya  2018  ...              No formal education       Government Dependent\n",
              "2   Kenya  2018  ...  Vocational/Specialised training              Self employed\n",
              "3   Kenya  2018  ...                Primary education  Formally employed Private\n",
              "4   Kenya  2018  ...                Primary education        Informally employed\n",
              "\n",
              "[5 rows x 12 columns]"
            ]
          },
          "metadata": {
            "tags": []
          },
          "execution_count": 19
        }
      ]
    },
    {
      "cell_type": "markdown",
      "metadata": {
        "id": "G3uXjDV8rzWD",
        "colab_type": "text"
      },
      "source": [
        "# univariate analysis"
      ]
    },
    {
      "cell_type": "code",
      "metadata": {
        "id": "IiOkLRmBrhKe",
        "colab_type": "code",
        "colab": {}
      },
      "source": [
        "# Numerical analysis"
      ],
      "execution_count": 0,
      "outputs": []
    },
    {
      "cell_type": "markdown",
      "metadata": {
        "id": "ZP6GulUhwfvM",
        "colab_type": "text"
      },
      "source": [
        "Year\n"
      ]
    },
    {
      "cell_type": "code",
      "metadata": {
        "id": "WJ2UwPZ-wikF",
        "colab_type": "code",
        "outputId": "d1f21f17-13d2-401f-d4b0-2d87c7a9874f",
        "colab": {
          "base_uri": "https://localhost:8080/",
          "height": 278
        }
      },
      "source": [
        "sns.distplot(df.year.dropna());\n",
        "\n",
        "# the active years on the dataset are years 2016 through to 2018 and tis is seen on the graph below."
      ],
      "execution_count": 21,
      "outputs": [
        {
          "output_type": "display_data",
          "data": {
            "image/png": "[encoded data removed]",
            "text/plain": [
              "<Figure size 432x288 with 1 Axes>"
            ]
          },
          "metadata": {
            "tags": []
          }
        }
      ]
    },
    {
      "cell_type": "markdown",
      "metadata": {
        "id": "aaSA2YIA0Mr8",
        "colab_type": "text"
      },
      "source": [
        "Household Size"
      ]
    },
    {
      "cell_type": "code",
      "metadata": {
        "id": "jclP6Ju3wwDP",
        "colab_type": "code",
        "outputId": "f59039d2-8c5a-45be-cd32-9bf708b55069",
        "colab": {
          "base_uri": "https://localhost:8080/",
          "height": 351
        }
      },
      "source": [
        "sns.distplot(df.household_size.dropna());\n",
        "print (df.household_size.mean())\n",
        "print (df.household_size.median())\n",
        "print (df.household_size.mode())\n",
        "\n",
        "# This graph is positively skewed meaning most values are between the values  1 and 7.\n",
        "# The household size has a mean of 4 people per household"
      ],
      "execution_count": 22,
      "outputs": [
        {
          "output_type": "stream",
          "text": [
            "3.6886432763569377\n",
            "3.0\n",
            "0    2.0\n",
            "dtype: float64\n"
          ],
          "name": "stdout"
        },
        {
          "output_type": "display_data",
          "data": {
            "image/png": "[encoded data removed]",
            "text/plain": [
              "<Figure size 432x288 with 1 Axes>"
            ]
          },
          "metadata": {
            "tags": []
          }
        }
      ]
    },
    {
      "cell_type": "markdown",
      "metadata": {
        "id": "e940YRZE0QVA",
        "colab_type": "text"
      },
      "source": [
        " Respondent Age"
      ]
    },
    {
      "cell_type": "code",
      "metadata": {
        "id": "wnOPg560xkn-",
        "colab_type": "code",
        "outputId": "95e1a318-b372-4c4d-9837-1146d2956cc3",
        "colab": {
          "base_uri": "https://localhost:8080/",
          "height": 354
        }
      },
      "source": [
        "sns.distplot(df.respondent_age.dropna());\n",
        "print (df.respondent_age.mean())\n",
        "print (df.respondent_age.median())\n",
        "print (df.respondent_age.mode())\n",
        "\n",
        "# the graph is positively skewed meaning most of the values are in between 20 and 60\n",
        "# the mean for the respondent age is 35"
      ],
      "execution_count": 23,
      "outputs": [
        {
          "output_type": "stream",
          "text": [
            "38.80550914621085\n",
            "35.0\n",
            "0    30.0\n",
            "dtype: float64\n"
          ],
          "name": "stdout"
        },
        {
          "output_type": "display_data",
          "data": {
            "image/png": "[encoded data removed]",
            "text/plain": [
              "<Figure size 432x288 with 1 Axes>"
            ]
          },
          "metadata": {
            "tags": []
          }
        }
      ]
    },
    {
      "cell_type": "markdown",
      "metadata": {
        "id": "DpdQDfNx3aqQ",
        "colab_type": "text"
      },
      "source": [
        "Categorical variables\n",
        "\n",
        "Country"
      ]
    },
    {
      "cell_type": "code",
      "metadata": {
        "id": "vIH3SrmTymsY",
        "colab_type": "code",
        "outputId": "48e6ff22-06c3-4eab-e717-4b57ea0972e1",
        "colab": {
          "base_uri": "https://localhost:8080/",
          "height": 387
        }
      },
      "source": [
        "plt.figure(figsize=(8, 6))\n",
        "\n",
        "sns.countplot(df.country.dropna(), order = df.country.value_counts().index);\n",
        "\n",
        "# From the graph below, we can see that Rwanda leads in the financial scope followed by Tanzania and Uganda is the last is the financial scope"
      ],
      "execution_count": 24,
      "outputs": [
        {
          "output_type": "display_data",
          "data": {
            "image/png": "[encoded data removed]",
            "text/plain": [
              "<Figure size 576x432 with 1 Axes>"
            ]
          },
          "metadata": {
            "tags": []
          }
        }
      ]
    },
    {
      "cell_type": "markdown",
      "metadata": {
        "id": "yJVq1buZWGhx",
        "colab_type": "text"
      },
      "source": [
        "Bank Account Holders"
      ]
    },
    {
      "cell_type": "code",
      "metadata": {
        "id": "iwHMSTSXzCF6",
        "colab_type": "code",
        "outputId": "7e0a0404-890c-400e-981b-b0a531e9ac07",
        "colab": {
          "base_uri": "https://localhost:8080/",
          "height": 388
        }
      },
      "source": [
        "plt.figure(figsize=(10, 6))\n",
        "\n",
        "sns.countplot(df.has_a_bank_account.dropna(), order = df.has_a_bank_account.value_counts().index);\n",
        "\n",
        "# most respondents do not have a bank account this could be because most people come from the rural areas."
      ],
      "execution_count": 25,
      "outputs": [
        {
          "output_type": "display_data",
          "data": {
            "image/png": "[encoded data removed]",
            "text/plain": [
              "<Figure size 720x432 with 1 Axes>"
            ]
          },
          "metadata": {
            "tags": []
          }
        }
      ]
    },
    {
      "cell_type": "markdown",
      "metadata": {
        "id": "8iiAfbaoWNWg",
        "colab_type": "text"
      },
      "source": [
        "Location"
      ]
    },
    {
      "cell_type": "code",
      "metadata": {
        "id": "SZQHuMhSzenr",
        "colab_type": "code",
        "outputId": "07fc5e16-2f2c-4f35-9809-8ad126f405c8",
        "colab": {
          "base_uri": "https://localhost:8080/",
          "height": 388
        }
      },
      "source": [
        "plt.figure(figsize=(10, 6))\n",
        "\n",
        "sns.countplot(df.type_of_location.dropna(), order = df.type_of_location.value_counts().index);\n",
        "\n",
        "# Most of our respondents were from the rural areas"
      ],
      "execution_count": 26,
      "outputs": [
        {
          "output_type": "display_data",
          "data": {
            "image/png": "[encoded data removed]",
            "text/plain": [
              "<Figure size 720x432 with 1 Axes>"
            ]
          },
          "metadata": {
            "tags": []
          }
        }
      ]
    },
    {
      "cell_type": "markdown",
      "metadata": {
        "id": "IU4KQviqWRWA",
        "colab_type": "text"
      },
      "source": [
        "Cell Phone Access"
      ]
    },
    {
      "cell_type": "code",
      "metadata": {
        "id": "AXVtN3xG49Dw",
        "colab_type": "code",
        "outputId": "8c4a77e5-62cf-4029-84ae-045ff0735b30",
        "colab": {
          "base_uri": "https://localhost:8080/",
          "height": 388
        }
      },
      "source": [
        "plt.figure(figsize=(10, 6))\n",
        "\n",
        "sns.countplot(df.cell_phone_access.dropna(), order = df.cell_phone_access.value_counts().index);\n",
        "\n",
        "# most respondents have phone access, bearing in mind that the larger percentage comes from rural areas and have no access to bank services, \n",
        "# this finding is rather surprising i must say."
      ],
      "execution_count": 27,
      "outputs": [
        {
          "output_type": "display_data",
          "data": {
            "image/png": "[encoded data removed]",
            "text/plain": [
              "<Figure size 720x432 with 1 Axes>"
            ]
          },
          "metadata": {
            "tags": []
          }
        }
      ]
    },
    {
      "cell_type": "markdown",
      "metadata": {
        "id": "SE3VlBBcWYic",
        "colab_type": "text"
      },
      "source": [
        "Gender"
      ]
    },
    {
      "cell_type": "code",
      "metadata": {
        "id": "SKcJzW-o5Wxm",
        "colab_type": "code",
        "outputId": "66de2ab4-e82b-4ade-fecf-248eb32fef63",
        "colab": {
          "base_uri": "https://localhost:8080/",
          "height": 388
        }
      },
      "source": [
        "plt.figure(figsize=(10, 6))\n",
        "\n",
        "sns.countplot(df.gender_of_respondent.dropna(), order = df.gender_of_respondent.value_counts().index);\n",
        "\n",
        "# we have more females than males from our respondents"
      ],
      "execution_count": 28,
      "outputs": [
        {
          "output_type": "display_data",
          "data": {
            "image/png": "[encoded data removed]",
            "text/plain": [
              "<Figure size 720x432 with 1 Axes>"
            ]
          },
          "metadata": {
            "tags": []
          }
        }
      ]
    },
    {
      "cell_type": "markdown",
      "metadata": {
        "id": "nvSKKxrZWbEV",
        "colab_type": "text"
      },
      "source": [
        "Relationship with the head"
      ]
    },
    {
      "cell_type": "code",
      "metadata": {
        "id": "D-GnNKBN5uIP",
        "colab_type": "code",
        "outputId": "b490ca57-6508-4b31-b04d-d9fbfc8bddc6",
        "colab": {
          "base_uri": "https://localhost:8080/",
          "height": 388
        }
      },
      "source": [
        "plt.figure(figsize=(10, 6))\n",
        "\n",
        "sns.countplot(df.relationship_with_head.dropna(), order = df.relationship_with_head.value_counts().index);\n",
        "\n",
        "# from the graph we can see that most respondents were the heads of the households\n",
        "# the next category were the spouses to the heads while the last group are the non relatives."
      ],
      "execution_count": 29,
      "outputs": [
        {
          "output_type": "display_data",
          "data": {
            "image/png": "[encoded data removed]",
            "text/plain": [
              "<Figure size 720x432 with 1 Axes>"
            ]
          },
          "metadata": {
            "tags": []
          }
        }
      ]
    },
    {
      "cell_type": "markdown",
      "metadata": {
        "id": "sGgdVtKUWlOi",
        "colab_type": "text"
      },
      "source": [
        "Marital Status"
      ]
    },
    {
      "cell_type": "code",
      "metadata": {
        "id": "z-dGB_vN58dE",
        "colab_type": "code",
        "outputId": "83d842a6-f1f6-4d40-d9fe-99db53ae2bb9",
        "colab": {
          "base_uri": "https://localhost:8080/",
          "height": 468
        }
      },
      "source": [
        "plt.figure(figsize=(10, 6))\n",
        "\n",
        "sns.countplot(df.marital_status.dropna(), order = df.marital_status.value_counts().index)\n",
        "\n",
        "plt.xticks(rotation=45);\n",
        "\n",
        "# most respondents are either married or living together closely followed by those who are single or have never been married"
      ],
      "execution_count": 30,
      "outputs": [
        {
          "output_type": "display_data",
          "data": {
            "image/png": "[encoded data removed]",
            "text/plain": [
              "<Figure size 720x432 with 1 Axes>"
            ]
          },
          "metadata": {
            "tags": []
          }
        }
      ]
    },
    {
      "cell_type": "markdown",
      "metadata": {
        "id": "VWVUvvlFWvmu",
        "colab_type": "text"
      },
      "source": [
        "Education Levels"
      ]
    },
    {
      "cell_type": "code",
      "metadata": {
        "id": "6IZl4TPk6HU0",
        "colab_type": "code",
        "outputId": "d8132fa6-fb75-4008-912f-1e2e787b6e75",
        "colab": {
          "base_uri": "https://localhost:8080/",
          "height": 494
        }
      },
      "source": [
        "plt.figure(figsize=(13, 6))\n",
        "\n",
        "sns.countplot(df.level_of_educuation.dropna(), order = df.level_of_educuation.value_counts().index)\n",
        "\n",
        "plt.xticks(rotation=45);\n",
        "\n",
        "# most respondent's highest level of education is primary school. \n",
        "# this could be brought about by the fact that most respondents come from the rural areas.\n"
      ],
      "execution_count": 31,
      "outputs": [
        {
          "output_type": "display_data",
          "data": {
            "image/png": "[encoded data removed]",
            "text/plain": [
              "<Figure size 936x432 with 1 Axes>"
            ]
          },
          "metadata": {
            "tags": []
          }
        }
      ]
    },
    {
      "cell_type": "markdown",
      "metadata": {
        "id": "EecEEn6YXpxl",
        "colab_type": "text"
      },
      "source": [
        "Type of job"
      ]
    },
    {
      "cell_type": "code",
      "metadata": {
        "id": "dt7WS8-s6db_",
        "colab_type": "code",
        "outputId": "e05ed014-a43b-4fc8-cf33-d8206a73460b",
        "colab": {
          "base_uri": "https://localhost:8080/",
          "height": 500
        }
      },
      "source": [
        "plt.figure(figsize=(13, 6))\n",
        "\n",
        "sns.countplot(df.type_of_job.dropna(), order = df.type_of_job.value_counts().index)\n",
        "\n",
        "plt.xticks(rotation=45);\n",
        "\n",
        "# most people are self employedm informally employed and farming/fishing. \n",
        "# this finding is expected based on location"
      ],
      "execution_count": 32,
      "outputs": [
        {
          "output_type": "display_data",
          "data": {
            "image/png": "[encoded data removed]",
            "text/plain": [
              "<Figure size 936x432 with 1 Axes>"
            ]
          },
          "metadata": {
            "tags": []
          }
        }
      ]
    },
    {
      "cell_type": "markdown",
      "metadata": {
        "id": "3zkxHc2iYCZk",
        "colab_type": "text"
      },
      "source": [
        "From our univariate findings, we will compare some fields such as location and access to a bank account to see if they are correlated.\n",
        "\n"
      ]
    },
    {
      "cell_type": "markdown",
      "metadata": {
        "id": "77PzFVFOYSF_",
        "colab_type": "text"
      },
      "source": [
        "We will also compare location and level of education as well as location and type of job as these cases seem to be related"
      ]
    },
    {
      "cell_type": "markdown",
      "metadata": {
        "id": "ljjnyQg3ZfQL",
        "colab_type": "text"
      },
      "source": [
        "We can also look at the type of job in relation to access to bank account and type of job in relation to education levels to gain some insights on how education levels affect the type of jobe one gets and if job type has influence of one having a bank account"
      ]
    },
    {
      "cell_type": "markdown",
      "metadata": {
        "id": "lAFaOBsZakPK",
        "colab_type": "text"
      },
      "source": [
        "# Bivariate Analysis"
      ]
    },
    {
      "cell_type": "code",
      "metadata": {
        "id": "ghTWdA1hFAiM",
        "colab_type": "code",
        "colab": {
          "base_uri": "https://localhost:8080/",
          "height": 317
        },
        "outputId": "9e207bbe-b638-4335-e894-260a913ff942"
      },
      "source": [
        "df.head()"
      ],
      "execution_count": 38,
      "outputs": [
        {
          "output_type": "execute_result",
          "data": {
            "text/html": [
              "<div>\n",
              "<style scoped>\n",
              "    .dataframe tbody tr th:only-of-type {\n",
              "        vertical-align: middle;\n",
              "    }\n",
              "\n",
              "    .dataframe tbody tr th {\n",
              "        vertical-align: top;\n",
              "    }\n",
              "\n",
              "    .dataframe thead th {\n",
              "        text-align: right;\n",
              "    }\n",
              "</style>\n",
              "<table border=\"1\" class=\"dataframe\">\n",
              "  <thead>\n",
              "    <tr style=\"text-align: right;\">\n",
              "      <th></th>\n",
              "      <th>country</th>\n",
              "      <th>year</th>\n",
              "      <th>has_a_bank_account</th>\n",
              "      <th>type_of_location</th>\n",
              "      <th>cell_phone_access</th>\n",
              "      <th>household_size</th>\n",
              "      <th>respondent_age</th>\n",
              "      <th>gender_of_respondent</th>\n",
              "      <th>relationship_with_head</th>\n",
              "      <th>marital_status</th>\n",
              "      <th>level_of_educuation</th>\n",
              "      <th>type_of_job</th>\n",
              "    </tr>\n",
              "  </thead>\n",
              "  <tbody>\n",
              "    <tr>\n",
              "      <th>0</th>\n",
              "      <td>Kenya</td>\n",
              "      <td>2018</td>\n",
              "      <td>Yes</td>\n",
              "      <td>Rural</td>\n",
              "      <td>Yes</td>\n",
              "      <td>3.0</td>\n",
              "      <td>24.0</td>\n",
              "      <td>Female</td>\n",
              "      <td>Spouse</td>\n",
              "      <td>Married/Living together</td>\n",
              "      <td>Secondary education</td>\n",
              "      <td>Self employed</td>\n",
              "    </tr>\n",
              "    <tr>\n",
              "      <th>1</th>\n",
              "      <td>Kenya</td>\n",
              "      <td>2018</td>\n",
              "      <td>No</td>\n",
              "      <td>Rural</td>\n",
              "      <td>No</td>\n",
              "      <td>5.0</td>\n",
              "      <td>70.0</td>\n",
              "      <td>Female</td>\n",
              "      <td>Head of Household</td>\n",
              "      <td>Widowed</td>\n",
              "      <td>No formal education</td>\n",
              "      <td>Government Dependent</td>\n",
              "    </tr>\n",
              "    <tr>\n",
              "      <th>2</th>\n",
              "      <td>Kenya</td>\n",
              "      <td>2018</td>\n",
              "      <td>Yes</td>\n",
              "      <td>Urban</td>\n",
              "      <td>Yes</td>\n",
              "      <td>5.0</td>\n",
              "      <td>26.0</td>\n",
              "      <td>Male</td>\n",
              "      <td>Other relative</td>\n",
              "      <td>Single/Never Married</td>\n",
              "      <td>Vocational/Specialised training</td>\n",
              "      <td>Self employed</td>\n",
              "    </tr>\n",
              "    <tr>\n",
              "      <th>3</th>\n",
              "      <td>Kenya</td>\n",
              "      <td>2018</td>\n",
              "      <td>No</td>\n",
              "      <td>Rural</td>\n",
              "      <td>Yes</td>\n",
              "      <td>5.0</td>\n",
              "      <td>34.0</td>\n",
              "      <td>Female</td>\n",
              "      <td>Head of Household</td>\n",
              "      <td>Married/Living together</td>\n",
              "      <td>Primary education</td>\n",
              "      <td>Formally employed Private</td>\n",
              "    </tr>\n",
              "    <tr>\n",
              "      <th>4</th>\n",
              "      <td>Kenya</td>\n",
              "      <td>2018</td>\n",
              "      <td>No</td>\n",
              "      <td>Urban</td>\n",
              "      <td>No</td>\n",
              "      <td>8.0</td>\n",
              "      <td>26.0</td>\n",
              "      <td>Male</td>\n",
              "      <td>Child</td>\n",
              "      <td>Single/Never Married</td>\n",
              "      <td>Primary education</td>\n",
              "      <td>Informally employed</td>\n",
              "    </tr>\n",
              "  </tbody>\n",
              "</table>\n",
              "</div>"
            ],
            "text/plain": [
              "  country  year  ...              level_of_educuation                type_of_job\n",
              "0   Kenya  2018  ...              Secondary education              Self employed\n",
              "1   Kenya  2018  ...              No formal education       Government Dependent\n",
              "2   Kenya  2018  ...  Vocational/Specialised training              Self employed\n",
              "3   Kenya  2018  ...                Primary education  Formally employed Private\n",
              "4   Kenya  2018  ...                Primary education        Informally employed\n",
              "\n",
              "[5 rows x 12 columns]"
            ]
          },
          "metadata": {
            "tags": []
          },
          "execution_count": 38
        }
      ]
    },
    {
      "cell_type": "code",
      "metadata": {
        "id": "jM8VwL0Ls1kJ",
        "colab_type": "code",
        "colab": {
          "base_uri": "https://localhost:8080/",
          "height": 137
        },
        "outputId": "82e76e2e-9fde-438a-de98-3d2359f5edc5"
      },
      "source": [
        "df.corr()"
      ],
      "execution_count": 66,
      "outputs": [
        {
          "output_type": "execute_result",
          "data": {
            "text/html": [
              "<div>\n",
              "<style scoped>\n",
              "    .dataframe tbody tr th:only-of-type {\n",
              "        vertical-align: middle;\n",
              "    }\n",
              "\n",
              "    .dataframe tbody tr th {\n",
              "        vertical-align: top;\n",
              "    }\n",
              "\n",
              "    .dataframe thead th {\n",
              "        text-align: right;\n",
              "    }\n",
              "</style>\n",
              "<table border=\"1\" class=\"dataframe\">\n",
              "  <thead>\n",
              "    <tr style=\"text-align: right;\">\n",
              "      <th></th>\n",
              "      <th>year</th>\n",
              "      <th>household_size</th>\n",
              "      <th>respondent_age</th>\n",
              "    </tr>\n",
              "  </thead>\n",
              "  <tbody>\n",
              "    <tr>\n",
              "      <th>year</th>\n",
              "      <td>1.000000</td>\n",
              "      <td>-0.048902</td>\n",
              "      <td>-0.019062</td>\n",
              "    </tr>\n",
              "    <tr>\n",
              "      <th>household_size</th>\n",
              "      <td>-0.048902</td>\n",
              "      <td>1.000000</td>\n",
              "      <td>-0.119709</td>\n",
              "    </tr>\n",
              "    <tr>\n",
              "      <th>respondent_age</th>\n",
              "      <td>-0.019062</td>\n",
              "      <td>-0.119709</td>\n",
              "      <td>1.000000</td>\n",
              "    </tr>\n",
              "  </tbody>\n",
              "</table>\n",
              "</div>"
            ],
            "text/plain": [
              "                    year  household_size  respondent_age\n",
              "year            1.000000       -0.048902       -0.019062\n",
              "household_size -0.048902        1.000000       -0.119709\n",
              "respondent_age -0.019062       -0.119709        1.000000"
            ]
          },
          "metadata": {
            "tags": []
          },
          "execution_count": 66
        }
      ]
    },
    {
      "cell_type": "markdown",
      "metadata": {
        "id": "EX5MsIj2ayLq",
        "colab_type": "text"
      },
      "source": [
        "Heat Map"
      ]
    },
    {
      "cell_type": "code",
      "metadata": {
        "id": "DP-FBGiL7BYG",
        "colab_type": "code",
        "outputId": "f818296f-3fb3-4f98-a238-7a2060b0da1f",
        "colab": {
          "base_uri": "https://localhost:8080/",
          "height": 487
        }
      },
      "source": [
        "plt.figure(figsize=(12, 8))\n",
        "\n",
        "df_corr = df.corr()\n",
        "sns.heatmap(df_corr, \n",
        "            xticklabels = df_corr.columns.values,\n",
        "            yticklabels = df_corr.columns.values,\n",
        "            annot = True);\n",
        "\n",
        "# we can see from the heat map that there is no correspondense between the numerical values"
      ],
      "execution_count": 33,
      "outputs": [
        {
          "output_type": "display_data",
          "data": {
            "image/png": "[encoded data removed]",
            "text/plain": [
              "<Figure size 864x576 with 2 Axes>"
            ]
          },
          "metadata": {
            "tags": []
          }
        }
      ]
    },
    {
      "cell_type": "markdown",
      "metadata": {
        "id": "y7MkQfufbkpw",
        "colab_type": "text"
      },
      "source": [
        "Crossplots"
      ]
    },
    {
      "cell_type": "code",
      "metadata": {
        "id": "yrIfoW2gbefy",
        "colab_type": "code",
        "outputId": "2bd39e51-0029-43bf-dd4b-c5fc7dc6343c",
        "colab": {
          "base_uri": "https://localhost:8080/",
          "height": 562
        }
      },
      "source": [
        "plt.figure(figsize=(14, 14))\n",
        "\n",
        "sns.pairplot(df, diag_kind='kde');"
      ],
      "execution_count": 34,
      "outputs": [
        {
          "output_type": "display_data",
          "data": {
            "text/plain": [
              "<Figure size 1008x1008 with 0 Axes>"
            ]
          },
          "metadata": {
            "tags": []
          }
        },
        {
          "output_type": "display_data",
          "data": {
            "image/png": "[encoded data removed]",
            "text/plain": [
              "<Figure size 540x540 with 12 Axes>"
            ]
          },
          "metadata": {
            "tags": []
          }
        }
      ]
    },
    {
      "cell_type": "markdown",
      "metadata": {
        "id": "yGAP2_pdDSKv",
        "colab_type": "text"
      },
      "source": [
        "Job Type Vs Has a Bank account"
      ]
    },
    {
      "cell_type": "code",
      "metadata": {
        "id": "vIfrVP6gea3K",
        "colab_type": "code",
        "outputId": "380995aa-b5c7-4dfe-f1eb-7b0fcd28463f",
        "colab": {
          "base_uri": "https://localhost:8080/",
          "height": 571
        }
      },
      "source": [
        "plt.figure(figsize=(13, 6))\n",
        "\n",
        "a = df.groupby (['type_of_job','has_a_bank_account'])['has_a_bank_account'].count()\n",
        "\n",
        "a.plot(kind='bar',  color='blue')\n",
        "\n",
        "plt.xticks(rotation=90);\n",
        "\n",
        "# From this, we can see that"
      ],
      "execution_count": 63,
      "outputs": [
        {
          "output_type": "display_data",
          "data": {
            "image/png": "[encoded data removed]",
            "text/plain": [
              "<Figure size 936x432 with 1 Axes>"
            ]
          },
          "metadata": {
            "tags": []
          }
        }
      ]
    },
    {
      "cell_type": "markdown",
      "metadata": {
        "id": "GKWrhBrqEHXl",
        "colab_type": "text"
      },
      "source": [
        "Education Level VS Bank Account "
      ]
    },
    {
      "cell_type": "code",
      "metadata": {
        "id": "nUn_Cvfgzo3Z",
        "colab_type": "code",
        "colab": {
          "base_uri": "https://localhost:8080/",
          "height": 564
        },
        "outputId": "ed27248b-bef6-4fd0-cb6a-274817f83755"
      },
      "source": [
        "plt.figure(figsize=(13, 6))\n",
        "\n",
        "a = df.groupby (['level_of_educuation','has_a_bank_account'])['has_a_bank_account'].count()\n",
        "\n",
        "a.plot(kind='bar',  color='blue')\n",
        "\n",
        "plt.xticks(rotation=90);"
      ],
      "execution_count": 62,
      "outputs": [
        {
          "output_type": "display_data",
          "data": {
            "image/png": "[encoded data removed]",
            "text/plain": [
              "<Figure size 936x432 with 1 Axes>"
            ]
          },
          "metadata": {
            "tags": []
          }
        }
      ]
    },
    {
      "cell_type": "markdown",
      "metadata": {
        "id": "5cQWbsDcEpqU",
        "colab_type": "text"
      },
      "source": [
        "Location Vs Type of job"
      ]
    },
    {
      "cell_type": "code",
      "metadata": {
        "id": "mM-pqhPHEub9",
        "colab_type": "code",
        "colab": {
          "base_uri": "https://localhost:8080/",
          "height": 584
        },
        "outputId": "531e7b41-e24b-41e5-ba88-6fee8f6cbf3d"
      },
      "source": [
        "plt.figure(figsize=(13, 6))\n",
        "\n",
        "a = df.groupby (['type_of_location','type_of_job'])['has_a_bank_account'].count()\n",
        "\n",
        "a.plot(kind='bar',  color='blue')\n",
        "\n",
        "plt.xticks(rotation=90);"
      ],
      "execution_count": 64,
      "outputs": [
        {
          "output_type": "display_data",
          "data": {
            "image/png": "[encoded data removed]",
            "text/plain": [
              "<Figure size 936x432 with 1 Axes>"
            ]
          },
          "metadata": {
            "tags": []
          }
        }
      ]
    },
    {
      "cell_type": "markdown",
      "metadata": {
        "id": "MPbFcVHjFQ_G",
        "colab_type": "text"
      },
      "source": [
        "Type of location Vs Bank Account"
      ]
    },
    {
      "cell_type": "code",
      "metadata": {
        "id": "yhYePPUhF84Q",
        "colab_type": "code",
        "colab": {
          "base_uri": "https://localhost:8080/",
          "height": 430
        },
        "outputId": "a69a7fcb-9f36-4a82-bd89-e1a86d4d0aae"
      },
      "source": [
        "plt.figure(figsize=(13, 6))\n",
        "\n",
        "a = df.groupby (['type_of_location','has_a_bank_account'])['has_a_bank_account'].count()\n",
        "\n",
        "a.plot(kind='bar',  color='blue')\n",
        "\n",
        "plt.xticks(rotation=45);"
      ],
      "execution_count": 40,
      "outputs": [
        {
          "output_type": "display_data",
          "data": {
            "image/png": "[encoded data removed]",
            "text/plain": [
              "<Figure size 936x432 with 1 Axes>"
            ]
          },
          "metadata": {
            "tags": []
          }
        }
      ]
    },
    {
      "cell_type": "markdown",
      "metadata": {
        "id": "PPY7r9xrGQv8",
        "colab_type": "text"
      },
      "source": [
        "Location Vs Education Levels"
      ]
    },
    {
      "cell_type": "code",
      "metadata": {
        "id": "f8II2bnSGXL4",
        "colab_type": "code",
        "colab": {
          "base_uri": "https://localhost:8080/",
          "height": 577
        },
        "outputId": "f2c15aa9-c8a5-4408-8457-595fd69675ab"
      },
      "source": [
        "plt.figure(figsize=(13, 6))\n",
        "\n",
        "a = df.groupby (['type_of_location','level_of_educuation'])['has_a_bank_account'].count()\n",
        "\n",
        "a.plot(kind='bar',  color='blue')\n",
        "\n",
        "plt.xticks(rotation=90);"
      ],
      "execution_count": 65,
      "outputs": [
        {
          "output_type": "display_data",
          "data": {
            "image/png": "[encoded data removed]",
            "text/plain": [
              "<Figure size 936x432 with 1 Axes>"
            ]
          },
          "metadata": {
            "tags": []
          }
        }
      ]
    },
    {
      "cell_type": "markdown",
      "metadata": {
        "id": "IJOP23QRJJY8",
        "colab_type": "text"
      },
      "source": [
        "Multivariate Analysis"
      ]
    },
    {
      "cell_type": "code",
      "metadata": {
        "id": "83rUtgESJRP-",
        "colab_type": "code",
        "colab": {}
      },
      "source": [
        "# Preprocessing\n",
        "\n",
        "X = df.iloc[:, 6:-5].values\n",
        "y=df['has_a_bank_account']"
      ],
      "execution_count": 0,
      "outputs": []
    },
    {
      "cell_type": "code",
      "metadata": {
        "id": "qyKkRV43OJVq",
        "colab_type": "code",
        "colab": {
          "base_uri": "https://localhost:8080/",
          "height": 638
        },
        "outputId": "fe78fea5-16f8-4508-8d0a-5081a694cdb0"
      },
      "source": [
        "# Splitting the dataset into the Training set and Test set\n",
        "\n",
        "from sklearn.model_selection import train_test_split\n",
        "\n",
        "X_train, X_test, y_train, y_test = train_test_split(X, y, test_size=0.2, random_state=0)\n",
        "X_train, X_test, y_train, y_test"
      ],
      "execution_count": 51,
      "outputs": [
        {
          "output_type": "execute_result",
          "data": {
            "text/plain": [
              "(array([[28.],\n",
              "        [80.],\n",
              "        [25.],\n",
              "        ...,\n",
              "        [30.],\n",
              "        [33.],\n",
              "        [66.]]), array([[45.],\n",
              "        [80.],\n",
              "        [48.],\n",
              "        ...,\n",
              "        [35.],\n",
              "        [20.],\n",
              "        [51.]]), 10935     No\n",
              " 2069      No\n",
              " 6777      No\n",
              " 19669     No\n",
              " 20504    Yes\n",
              "         ... \n",
              " 13130    Yes\n",
              " 19807    Yes\n",
              " 9852     Yes\n",
              " 10806     No\n",
              " 2736      No\n",
              " Name: has_a_bank_account, Length: 18674, dtype: object, 10622    No\n",
              " 10648    No\n",
              " 17902    No\n",
              " 31       No\n",
              " 14678    No\n",
              "          ..\n",
              " 15950    No\n",
              " 1040     No\n",
              " 10984    No\n",
              " 2039     No\n",
              " 13604    No\n",
              " Name: has_a_bank_account, Length: 4669, dtype: object)"
            ]
          },
          "metadata": {
            "tags": []
          },
          "execution_count": 51
        }
      ]
    },
    {
      "cell_type": "code",
      "metadata": {
        "id": "nop2zP4QOVTT",
        "colab_type": "code",
        "colab": {}
      },
      "source": [
        "# Normalization\n",
        "\n",
        "from sklearn.preprocessing import StandardScaler\n",
        "\n",
        "sc = StandardScaler()\n",
        "X_train = sc.fit_transform(X_train)\n",
        "X_test = sc.transform(X_test)"
      ],
      "execution_count": 0,
      "outputs": []
    },
    {
      "cell_type": "code",
      "metadata": {
        "id": "vupGH3PwPuhe",
        "colab_type": "code",
        "colab": {}
      },
      "source": [
        "# Applying PCA\n",
        "\n",
        "from sklearn.decomposition import PCA\n",
        "\n",
        "pca = PCA()\n",
        "X_train = pca.fit_transform(X_train)\n",
        "X_test = pca.transform(X_test)"
      ],
      "execution_count": 0,
      "outputs": []
    },
    {
      "cell_type": "code",
      "metadata": {
        "id": "qF-R45oXRHMG",
        "colab_type": "code",
        "colab": {}
      },
      "source": [
        "# Explained Variance Ratio\n",
        "\n",
        "explained_variance = pca.explained_variance_ratio_"
      ],
      "execution_count": 0,
      "outputs": []
    },
    {
      "cell_type": "code",
      "metadata": {
        "id": "K2Mjlwk_Rqih",
        "colab_type": "code",
        "colab": {}
      },
      "source": [
        "# Using 1 Principal Component\n",
        "\n",
        "rom sklearn.decomposition import PCA\n",
        "\n",
        "pca = PCA(n_components=1)\n",
        "X_train = pca.fit_transform(X_train)\n",
        "X_test = pca.transform(X_test)"
      ],
      "execution_count": 0,
      "outputs": []
    },
    {
      "cell_type": "code",
      "metadata": {
        "id": "npOZWGssSf5B",
        "colab_type": "code",
        "colab": {
          "base_uri": "https://localhost:8080/",
          "height": 52
        },
        "outputId": "7db17444-89af-4634-e02e-6ba3bd377a70"
      },
      "source": [
        "# Training and Making Predictions\n",
        "\n",
        "from sklearn.ensemble import RandomForestClassifier\n",
        "\n",
        "classifier = RandomForestClassifier(max_depth=2, random_state=0)\n",
        "classifier.fit(X_train, y_train)\n",
        "\n",
        "# Predicting the Test set results\n",
        "y_pred = classifier.predict(X_test)"
      ],
      "execution_count": 47,
      "outputs": [
        {
          "output_type": "stream",
          "text": [
            "/usr/local/lib/python3.6/dist-packages/sklearn/ensemble/forest.py:245: FutureWarning: The default value of n_estimators will change from 10 in version 0.20 to 100 in 0.22.\n",
            "  \"10 in version 0.20 to 100 in 0.22.\", FutureWarning)\n"
          ],
          "name": "stderr"
        }
      ]
    },
    {
      "cell_type": "code",
      "metadata": {
        "id": "X61KPQ0kSsNv",
        "colab_type": "code",
        "colab": {
          "base_uri": "https://localhost:8080/",
          "height": 70
        },
        "outputId": "88da7b79-a4bb-4073-9d6c-6e2db10e8d8b"
      },
      "source": [
        "# Performance Evaluation\n",
        "\n",
        "from sklearn.metrics import confusion_matrix\n",
        "from sklearn.metrics import accuracy_score\n",
        "\n",
        "cm = confusion_matrix(y_test, y_pred)\n",
        "print(cm)\n",
        "print('Accuracy ' + str(accuracy_score(y_test, y_pred)))\n"
      ],
      "execution_count": 50,
      "outputs": [
        {
          "output_type": "stream",
          "text": [
            "[[4008    0]\n",
            " [ 661    0]]\n",
            "Accuracy 0.8584279288926965\n"
          ],
          "name": "stdout"
        }
      ]
    },
    {
      "cell_type": "markdown",
      "metadata": {
        "id": "C3C-xAH5Ww6J",
        "colab_type": "text"
      },
      "source": [
        "# Discriminant Analysis"
      ]
    },
    {
      "cell_type": "code",
      "metadata": {
        "id": "sZfJgblCUKW-",
        "colab_type": "code",
        "colab": {}
      },
      "source": [
        "# Dividing the dataset\n",
        "x = df.iloc[:, 6:-5].values\n",
        "y=df['gender_of_respondent']"
      ],
      "execution_count": 0,
      "outputs": []
    },
    {
      "cell_type": "code",
      "metadata": {
        "id": "EGMDT9fQeThs",
        "colab_type": "code",
        "colab": {
          "base_uri": "https://localhost:8080/",
          "height": 638
        },
        "outputId": "7f1e0eb5-1c02-432c-f58f-d2e2829ce917"
      },
      "source": [
        "# dividing data into training and test sets\n",
        "\n",
        "from sklearn.model_selection import train_test_split\n",
        "X_train, X_test, y_train, y_test = train_test_split(X, y, test_size=0.2, random_state=0)\n",
        "X_train, X_test, y_train, y_test"
      ],
      "execution_count": 55,
      "outputs": [
        {
          "output_type": "execute_result",
          "data": {
            "text/plain": [
              "(array([[28.],\n",
              "        [80.],\n",
              "        [25.],\n",
              "        ...,\n",
              "        [30.],\n",
              "        [33.],\n",
              "        [66.]]), array([[45.],\n",
              "        [80.],\n",
              "        [48.],\n",
              "        ...,\n",
              "        [35.],\n",
              "        [20.],\n",
              "        [51.]]), 10935    Female\n",
              " 2069       Male\n",
              " 6777       Male\n",
              " 19669      Male\n",
              " 20504      Male\n",
              "           ...  \n",
              " 13130      Male\n",
              " 19807    Female\n",
              " 9852     Female\n",
              " 10806    Female\n",
              " 2736       Male\n",
              " Name: gender_of_respondent, Length: 18674, dtype: object, 10622      Male\n",
              " 10648    Female\n",
              " 17902    Female\n",
              " 31         Male\n",
              " 14678      Male\n",
              "           ...  \n",
              " 15950      Male\n",
              " 1040     Female\n",
              " 10984    Female\n",
              " 2039     Female\n",
              " 13604      Male\n",
              " Name: gender_of_respondent, Length: 4669, dtype: object)"
            ]
          },
          "metadata": {
            "tags": []
          },
          "execution_count": 55
        }
      ]
    },
    {
      "cell_type": "code",
      "metadata": {
        "id": "lKWSWPXZfdZg",
        "colab_type": "code",
        "colab": {}
      },
      "source": [
        "# Feature Scaling\n",
        "\n",
        "from sklearn.preprocessing import StandardScaler\n",
        "sc = StandardScaler()\n",
        "X_train = sc.fit_transform(X_train)\n",
        "X_test = sc.transform(X_test)"
      ],
      "execution_count": 0,
      "outputs": []
    },
    {
      "cell_type": "code",
      "metadata": {
        "id": "XHHqgi2gflzz",
        "colab_type": "code",
        "colab": {}
      },
      "source": [
        "# Performing Linear Discriminant Analysis\n",
        "\n",
        "from sklearn.discriminant_analysis import LinearDiscriminantAnalysis as LDA\n",
        "lda = LDA(n_components=1)\n",
        "X_train = lda.fit_transform(X_train, y_train)\n",
        "X_test = lda.transform(X_test)"
      ],
      "execution_count": 0,
      "outputs": []
    },
    {
      "cell_type": "code",
      "metadata": {
        "id": "VlakvJY0f3jF",
        "colab_type": "code",
        "colab": {
          "base_uri": "https://localhost:8080/",
          "height": 52
        },
        "outputId": "3a26cd81-39bf-4a28-f919-c4de9c3edddf"
      },
      "source": [
        "# Training and Making Predictions\n",
        "\n",
        "from sklearn.ensemble import RandomForestClassifier\n",
        "\n",
        "classifier = RandomForestClassifier(max_depth=2, random_state=0)\n",
        "classifier.fit(X_train, y_train)\n",
        "y_pred = classifier.predict(X_test)"
      ],
      "execution_count": 58,
      "outputs": [
        {
          "output_type": "stream",
          "text": [
            "/usr/local/lib/python3.6/dist-packages/sklearn/ensemble/forest.py:245: FutureWarning: The default value of n_estimators will change from 10 in version 0.20 to 100 in 0.22.\n",
            "  \"10 in version 0.20 to 100 in 0.22.\", FutureWarning)\n"
          ],
          "name": "stderr"
        }
      ]
    },
    {
      "cell_type": "code",
      "metadata": {
        "id": "SanLB6pAgOdx",
        "colab_type": "code",
        "colab": {
          "base_uri": "https://localhost:8080/",
          "height": 70
        },
        "outputId": "3bedd835-349a-4004-a324-4797b6c69d78"
      },
      "source": [
        "# Evaluating the Performance\n",
        "\n",
        "from sklearn.metrics import confusion_matrix\n",
        "from sklearn.metrics import accuracy_score\n",
        "\n",
        "cm = confusion_matrix(y_test, y_pred)\n",
        "print(cm)\n",
        "print('Accuracy' + str(accuracy_score(y_test, y_pred)))\n"
      ],
      "execution_count": 59,
      "outputs": [
        {
          "output_type": "stream",
          "text": [
            "[[2747    0]\n",
            " [1922    0]]\n",
            "Accuracy0.5883486828014565\n"
          ],
          "name": "stdout"
        }
      ]
    }
  ]
}